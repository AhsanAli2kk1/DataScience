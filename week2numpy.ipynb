{
 "cells": [
  {
   "cell_type": "code",
   "execution_count": 1,
   "id": "0c30f6f3-d1df-4dc6-a064-406f6962c47a",
   "metadata": {},
   "outputs": [
    {
     "data": {
      "text/plain": [
       "array([20, 19, 24, 21])"
      ]
     },
     "execution_count": 1,
     "metadata": {},
     "output_type": "execute_result"
    }
   ],
   "source": [
    "import numpy as np\n",
    "Array=np.random.randint(10,29,4)\n",
    "Array"
   ]
  },
  {
   "cell_type": "code",
   "execution_count": 5,
   "id": "4da68818-00f0-4bf7-90f4-376b7036be34",
   "metadata": {},
   "outputs": [
    {
     "name": "stdout",
     "output_type": "stream",
     "text": [
      "[[1]\n",
      " [2]\n",
      " [3]]\n",
      "[[1 2 3 4]]\n",
      "[[2 3 4 5]\n",
      " [3 4 5 6]\n",
      " [4 5 6 7]]\n"
     ]
    }
   ],
   "source": [
    "\n",
    "Array=np.arange(1,4).reshape(3,1)\n",
    "Array2=np.arange(1,5).reshape(1,4)\n",
    "print(Array2)\n",
    "print(Array2)\n",
    "print(Array+Array2)"
   ]
  },
  {
   "cell_type": "code",
   "execution_count": 11,
   "id": "695cae7b-7fc4-43a2-9a48-e62a1063b61e",
   "metadata": {},
   "outputs": [
    {
     "name": "stdout",
     "output_type": "stream",
     "text": [
      "[[ 8 36  8 11 12]\n",
      " [37 20  9 29 33]\n",
      " [27 18 14  8 22]\n",
      " [ 1 19 40 34  2]\n",
      " [49  4 47 43 38]]\n",
      "[[ 8  0  8 11 12]\n",
      " [ 0  0  9  0  0]\n",
      " [ 0  0 14  8  0]\n",
      " [ 1  0  0  0  2]\n",
      " [ 0  4  0  0  0]]\n"
     ]
    }
   ],
   "source": [
    "Array=np.random.randint(1,50,25).reshape(5,5)\n",
    "print(Array)\n",
    "Array[Array>15]=0\n",
    "print(Array)"
   ]
  },
  {
   "cell_type": "code",
   "execution_count": 12,
   "id": "b8061056-b6b6-431d-a422-f4cf44bdd7d1",
   "metadata": {},
   "outputs": [
    {
     "name": "stdout",
     "output_type": "stream",
     "text": [
      "[[ 2  4  6]\n",
      " [ 5  7  9]\n",
      " [ 8 10 12]\n",
      " [11 13 15]]\n"
     ]
    }
   ],
   "source": [
    "Array=np.array([1,2,3])\n",
    "Array2=np.arange(1,13).reshape(4,3)\n",
    "print(Array+Array2)"
   ]
  },
  {
   "cell_type": "code",
   "execution_count": 13,
   "id": "c670c7dc-d276-458b-a876-4878e30b4dce",
   "metadata": {},
   "outputs": [
    {
     "name": "stdout",
     "output_type": "stream",
     "text": [
      "[[ 2  4  6]\n",
      " [ 5  7  9]\n",
      " [ 8 10 12]]\n"
     ]
    }
   ],
   "source": [
    "Array=np.array([1,2,3])\n",
    "Array2=np.arange(1,13).reshape(3,3)\n",
    "print(Array+Array2)"
   ]
  },
  {
   "cell_type": "code",
   "execution_count": 21,
   "id": "1465c418-64c0-4bfc-88d8-9d3b56ade9ce",
   "metadata": {},
   "outputs": [
    {
     "name": "stdout",
     "output_type": "stream",
     "text": [
      "[[ 1  3  5]\n",
      " [11 13 15]\n",
      " [21 23 25]]\n",
      "[[ 2  5  8]\n",
      " [12 15 18]\n",
      " [22 25 28]]\n"
     ]
    }
   ],
   "source": [
    "Array=np.array([1,2,3])\n",
    "Array2=np.arange(1,26).reshape(5,5)\n",
    "print(Array2[::2,::2])\n",
    "print(Array+Array2[::2,::2])"
   ]
  },
  {
   "cell_type": "code",
   "execution_count": 38,
   "id": "c4b905a3-a52f-40ba-a294-f1219a71a811",
   "metadata": {},
   "outputs": [
    {
     "name": "stdout",
     "output_type": "stream",
     "text": [
      "[[1 2 3]\n",
      " [4 5 6]\n",
      " [7 8 9]]\n",
      "[[3 2 1]\n",
      " [6 5 4]\n",
      " [9 8 7]]\n",
      "[[4 5 6]\n",
      " [1 2 3]]\n"
     ]
    }
   ],
   "source": [
    "array_2d = np.array([[1, 2, 3],\n",
    "                     [4, 5, 6],\n",
    "                     [7, 8, 9]])\n",
    "print(array_2d)\n",
    "print(array_2d[:,::-1])\n",
    "print(array_2d[1::-1,::])"
   ]
  },
  {
   "cell_type": "code",
   "execution_count": null,
   "id": "c37ede66-76d7-448e-a508-302c42faad3b",
   "metadata": {},
   "outputs": [],
   "source": [
    "array_3d = np.arange(120).reshape(4, 5, 6)\n",
    "print(array_3d)\n",
    "sub_array = array_3d[:2, :3, :4]\n",
    "print(sub_array)\n",
    "array_1d = np.array([10, 20, 30, 40])\n",
    "result_array = sub_array + array_1d[np.newaxis, np.newaxis, :]\n",
    "print(\"\\nModified sub-array after adding the 1D array to each row:\")\n",
    "print(result_array)\n"
   ]
  }
 ],
 "metadata": {
  "kernelspec": {
   "display_name": "Python 3 (ipykernel)",
   "language": "python",
   "name": "python3"
  },
  "language_info": {
   "codemirror_mode": {
    "name": "ipython",
    "version": 3
   },
   "file_extension": ".py",
   "mimetype": "text/x-python",
   "name": "python",
   "nbconvert_exporter": "python",
   "pygments_lexer": "ipython3",
   "version": "3.12.3"
  }
 },
 "nbformat": 4,
 "nbformat_minor": 5
}
