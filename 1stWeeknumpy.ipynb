{
 "cells": [
  {
   "cell_type": "code",
   "execution_count": 1,
   "id": "fa959d37-cecc-49d4-a819-d568f7a1d007",
   "metadata": {},
   "outputs": [],
   "source": [
    "import numpy as np"
   ]
  },
  {
   "cell_type": "markdown",
   "id": "c121a2f3-335d-4dfc-965b-957427c87c28",
   "metadata": {},
   "source": [
    "# Numpy Array"
   ]
  },
  {
   "cell_type": "code",
   "execution_count": 7,
   "id": "cd94dfc3-a4b6-415b-9bfc-0d525e22659c",
   "metadata": {},
   "outputs": [
    {
     "name": "stdout",
     "output_type": "stream",
     "text": [
      "1D array: \n"
     ]
    },
    {
     "data": {
      "text/plain": [
       "array([1.1, 1. , 1. , 3. , 4. , 5. ])"
      ]
     },
     "execution_count": 7,
     "metadata": {},
     "output_type": "execute_result"
    }
   ],
   "source": [
    "print(\"1D array: \")\n",
    "np.array([1.1,1,1,3,4,5])"
   ]
  },
  {
   "cell_type": "code",
   "execution_count": 8,
   "id": "1305f684-3dd3-4669-848b-c75545a077e6",
   "metadata": {},
   "outputs": [
    {
     "name": "stdout",
     "output_type": "stream",
     "text": [
      "2D array: \n"
     ]
    },
    {
     "data": {
      "text/plain": [
       "array([[1, 1, 1, 3, 4, 5],\n",
       "       [2, 2, 3, 4, 5, 4],\n",
       "       [1, 2, 2, 4, 5, 3]])"
      ]
     },
     "execution_count": 8,
     "metadata": {},
     "output_type": "execute_result"
    }
   ],
   "source": [
    "print(\"2D array: \")\n",
    "np.array([[1,1,1,3,4,5],[2,2,3,4,5,4],[1,2,2,4,5,3]])"
   ]
  },
  {
   "cell_type": "code",
   "execution_count": 9,
   "id": "c68add92-aee7-40c3-b8c4-b3989451bbba",
   "metadata": {},
   "outputs": [
    {
     "name": "stdout",
     "output_type": "stream",
     "text": [
      "3D array: \n"
     ]
    },
    {
     "data": {
      "text/plain": [
       "array([[[1, 1, 1, 3, 3, 5],\n",
       "        [1, 2, 2, 4, 5, 3]],\n",
       "\n",
       "       [[2, 2, 4, 3, 5, 5],\n",
       "        [1, 2, 2, 4, 5, 3]],\n",
       "\n",
       "       [[1, 2, 2, 4, 5, 3],\n",
       "        [1, 2, 2, 4, 5, 3]]])"
      ]
     },
     "execution_count": 9,
     "metadata": {},
     "output_type": "execute_result"
    }
   ],
   "source": [
    "print(\"3D array: \")\n",
    "np.array([[[1,1,1,3,3,5],[1,2,2,4,5,3]],[[2,2,4,3,5,5],[1,2,2,4,5,3]],[[1,2,2,4,5,3],[1,2,2,4,5,3]]])"
   ]
  },
  {
   "cell_type": "code",
   "execution_count": 10,
   "id": "4571036f-2b5a-4e2f-ac8d-f5f17c989e08",
   "metadata": {},
   "outputs": [
    {
     "name": "stdout",
     "output_type": "stream",
     "text": [
      "<class 'numpy.ndarray'>\n"
     ]
    }
   ],
   "source": [
    "a=np.array([1.1,1,1,3,4,5])\n",
    "print(type(a))"
   ]
  },
  {
   "cell_type": "code",
   "execution_count": 11,
   "id": "38698fe7-2c90-4d8b-a1c9-f6aa9b5f7bbb",
   "metadata": {},
   "outputs": [
    {
     "name": "stdout",
     "output_type": "stream",
     "text": [
      "6\n"
     ]
    }
   ],
   "source": [
    "print(a.size)"
   ]
  },
  {
   "cell_type": "code",
   "execution_count": 12,
   "id": "4689d744-c16f-4d14-86b6-f3b6f5b2c18c",
   "metadata": {},
   "outputs": [
    {
     "name": "stdout",
     "output_type": "stream",
     "text": [
      "18\n"
     ]
    }
   ],
   "source": [
    "b=np.array([[1,1,1,3,4,5],[2,2,3,4,5,4],[1,2,2,4,5,3]])\n",
    "print(b.size)"
   ]
  },
  {
   "cell_type": "code",
   "execution_count": 13,
   "id": "5a7f19cf-c880-4153-9c35-15446541016e",
   "metadata": {},
   "outputs": [
    {
     "name": "stdout",
     "output_type": "stream",
     "text": [
      "3\n",
      "6\n"
     ]
    }
   ],
   "source": [
    "print(len(b))\n",
    "print(len(a))"
   ]
  },
  {
   "cell_type": "code",
   "execution_count": 14,
   "id": "95e847ff-728f-49ff-9275-8d234d24ac77",
   "metadata": {},
   "outputs": [
    {
     "name": "stdout",
     "output_type": "stream",
     "text": [
      "(6,)\n",
      "(3, 6)\n"
     ]
    }
   ],
   "source": [
    "print(a.shape) \n",
    "print(b.shape)"
   ]
  },
  {
   "cell_type": "code",
   "execution_count": 15,
   "id": "3520b4c8-a8db-4588-82a6-9f5442da3d99",
   "metadata": {},
   "outputs": [
    {
     "name": "stdout",
     "output_type": "stream",
     "text": [
      "(3, 2, 6)\n"
     ]
    }
   ],
   "source": [
    "c=np.array([[[1,1,1,3,3,5],[1,2,2,4,5,3]],[[2,2,4,3,5,5],[1,2,2,4,5,3]],[[1,2,2,4,5,3],[1,2,2,4,5,3]]])\n",
    "print(c.shape)"
   ]
  },
  {
   "cell_type": "code",
   "execution_count": 16,
   "id": "ec06bf78-18fc-422b-9c26-6709fdd07e73",
   "metadata": {},
   "outputs": [
    {
     "name": "stdout",
     "output_type": "stream",
     "text": [
      "[[[1 2 1]\n",
      "  [1 1 1]]\n",
      "\n",
      " [[1 2 2]\n",
      "  [2 2 2]]\n",
      "\n",
      " [[1 4 2]\n",
      "  [2 2 2]]\n",
      "\n",
      " [[3 3 4]\n",
      "  [4 4 4]]\n",
      "\n",
      " [[3 5 5]\n",
      "  [5 5 5]]\n",
      "\n",
      " [[5 5 3]\n",
      "  [3 3 3]]]\n"
     ]
    }
   ],
   "source": [
    "d=c.transpose()\n",
    "print(d)"
   ]
  },
  {
   "cell_type": "code",
   "execution_count": 24,
   "id": "35f023a9-bcde-4b25-9971-966fb9c5b3b0",
   "metadata": {},
   "outputs": [
    {
     "data": {
      "text/plain": [
       "array([[-1378074682,   990266701],\n",
       "       [ 2138817807, -1072668410]])"
      ]
     },
     "execution_count": 24,
     "metadata": {},
     "output_type": "execute_result"
    }
   ],
   "source": [
    "np.empty((2,2),dtype=int)"
   ]
  },
  {
   "cell_type": "code",
   "execution_count": 25,
   "id": "bff376a4-4f7c-4efd-bace-c7844724b374",
   "metadata": {},
   "outputs": [
    {
     "data": {
      "text/plain": [
       "array([[7.96613837e-312, 2.81617418e-322, 0.00000000e+000,\n",
       "        0.00000000e+000],\n",
       "       [1.08221785e-312, 1.58817677e-052, 7.73660776e-091,\n",
       "        6.01032905e-067],\n",
       "       [5.54771274e+169, 1.60025725e+160, 6.48224660e+170,\n",
       "        4.93432906e+257]])"
      ]
     },
     "execution_count": 25,
     "metadata": {},
     "output_type": "execute_result"
    }
   ],
   "source": [
    "np.empty((3,4),dtype=float)"
   ]
  },
  {
   "cell_type": "code",
   "execution_count": 26,
   "id": "39e6fa33-3d94-4771-bf91-387badb4f7ac",
   "metadata": {},
   "outputs": [
    {
     "data": {
      "text/plain": [
       "array([[1., 1., 1., 1.],\n",
       "       [1., 1., 1., 1.],\n",
       "       [1., 1., 1., 1.],\n",
       "       [1., 1., 1., 1.],\n",
       "       [1., 1., 1., 1.]])"
      ]
     },
     "execution_count": 26,
     "metadata": {},
     "output_type": "execute_result"
    }
   ],
   "source": [
    "np.ones((5,4),dtype=float)"
   ]
  },
  {
   "cell_type": "code",
   "execution_count": 27,
   "id": "379a0ace-4df9-49ea-9fc9-fc9544b461b6",
   "metadata": {},
   "outputs": [
    {
     "data": {
      "text/plain": [
       "array([[0, 0, 0, 0],\n",
       "       [0, 0, 0, 0],\n",
       "       [0, 0, 0, 0]])"
      ]
     },
     "execution_count": 27,
     "metadata": {},
     "output_type": "execute_result"
    }
   ],
   "source": [
    "np.zeros((3,4),dtype=int)"
   ]
  },
  {
   "cell_type": "code",
   "execution_count": 28,
   "id": "3c67a0ac-d524-4eb3-8cf2-bc7f3a9dffed",
   "metadata": {},
   "outputs": [
    {
     "data": {
      "text/plain": [
       "array([ 1,  2,  3,  4,  5,  6,  7,  8,  9, 10, 11, 12, 13, 14, 15, 16, 17,\n",
       "       18, 19, 20])"
      ]
     },
     "execution_count": 28,
     "metadata": {},
     "output_type": "execute_result"
    }
   ],
   "source": [
    "np.arange(1,21)"
   ]
  },
  {
   "cell_type": "code",
   "execution_count": 29,
   "id": "e5f4095e-625e-4630-a087-450132dd0735",
   "metadata": {},
   "outputs": [
    {
     "data": {
      "text/plain": [
       "array([ 1,  5,  9, 13, 17])"
      ]
     },
     "execution_count": 29,
     "metadata": {},
     "output_type": "execute_result"
    }
   ],
   "source": [
    "np.arange(1,20,4)"
   ]
  },
  {
   "cell_type": "markdown",
   "id": "f70d79a3-6fd3-46a4-96cb-9b907230fb69",
   "metadata": {},
   "source": [
    "# Array Operations"
   ]
  },
  {
   "cell_type": "code",
   "execution_count": 31,
   "id": "e1b5aa0c-0a48-4810-8ef6-ec3da30a5ed9",
   "metadata": {},
   "outputs": [
    {
     "name": "stdout",
     "output_type": "stream",
     "text": [
      "[[ 2  4  6  8 10 12]\n",
      " [14 16 18 20 22 24]\n",
      " [26 28 30 32 34 36]]\n"
     ]
    }
   ],
   "source": [
    "array1=np.arange(1,19).reshape(3,6)\n",
    "array2=np.arange(1,19).reshape(3,6)\n",
    "AddedArray1=array1+array2\n",
    "AddedArray2=np.add(array1,array2)\n",
    "print(AddedArray2)"
   ]
  },
  {
   "cell_type": "code",
   "execution_count": 33,
   "id": "2bce4737-51b9-49a5-a3bf-1ce3bbe6b376",
   "metadata": {},
   "outputs": [
    {
     "name": "stdout",
     "output_type": "stream",
     "text": [
      "[[0 0 0 0 0 0]\n",
      " [0 0 0 0 0 0]\n",
      " [0 0 0 0 0 0]]\n"
     ]
    }
   ],
   "source": [
    "SubtractedArray2=np.subtract(array1,array2)\n",
    "print(SubtractedArray2)"
   ]
  },
  {
   "cell_type": "code",
   "execution_count": 34,
   "id": "cc244179-a7a0-45db-89fa-79cbc2305999",
   "metadata": {},
   "outputs": [
    {
     "name": "stdout",
     "output_type": "stream",
     "text": [
      "[[  1   4   9  16  25  36]\n",
      " [ 49  64  81 100 121 144]\n",
      " [169 196 225 256 289 324]]\n"
     ]
    }
   ],
   "source": [
    "MultipliedArray2=np.multiply(array1,array2)\n",
    "print(MultipliedArray2)"
   ]
  },
  {
   "cell_type": "code",
   "execution_count": 37,
   "id": "ef4d15b2-8a26-4b49-9265-468230fe1339",
   "metadata": {},
   "outputs": [
    {
     "name": "stdout",
     "output_type": "stream",
     "text": [
      "[[ 231  252  273]\n",
      " [ 537  594  651]\n",
      " [ 843  936 1029]]\n"
     ]
    }
   ],
   "source": [
    "array2=array2.reshape(6,3)\n",
    "multi=array1@array2\n",
    "print(multi)"
   ]
  },
  {
   "cell_type": "code",
   "execution_count": 38,
   "id": "b7ce6206-97d1-4231-b58a-b2a97573153a",
   "metadata": {},
   "outputs": [
    {
     "name": "stdout",
     "output_type": "stream",
     "text": [
      "[[ 231  252  273]\n",
      " [ 537  594  651]\n",
      " [ 843  936 1029]] \n",
      "Max:  1029 \n",
      "Min:  231 \n",
      "indexMex:  8 \n",
      "indexMin:  0\n"
     ]
    }
   ],
   "source": [
    "print(multi,\"\\nMax: \",multi.max(),\"\\nMin: \",multi.min(),\"\\nindexMex: \",multi.argmax(),\"\\nindexMin: \",multi.argmin())"
   ]
  },
  {
   "cell_type": "markdown",
   "id": "12d20ed9-0b86-4c68-9b07-2a411b673adf",
   "metadata": {},
   "source": [
    "# Other operations"
   ]
  },
  {
   "cell_type": "code",
   "execution_count": 39,
   "id": "7b868a6b-7966-4a10-9db3-72b2817a486a",
   "metadata": {},
   "outputs": [
    {
     "name": "stdout",
     "output_type": "stream",
     "text": [
      "3.141592653589793\n",
      "1.0\n",
      "0.49999999999999994\n",
      "6.123233995736766e-17\n",
      "0.8660254037844387\n",
      "1.633123935319537e+16\n",
      "0.5773502691896257\n"
     ]
    }
   ],
   "source": [
    "print(np.pi)\n",
    "print(np.sin(np.pi/2))\n",
    "print(np.sin(np.pi/6))\n",
    "print(np.cos(np.pi/2))\n",
    "print(np.cos(np.pi/6))\n",
    "print(np.tan(np.pi/2))\n",
    "print(np.tan(np.pi/6))"
   ]
  },
  {
   "cell_type": "code",
   "execution_count": 40,
   "id": "93f97d82-29e0-41c8-9c60-a74785199c0d",
   "metadata": {},
   "outputs": [
    {
     "name": "stdout",
     "output_type": "stream",
     "text": [
      "[0.96136699]\n",
      "[0.68039631 0.2955072  0.95963966]\n",
      "[[0.84278084 0.93433537 0.36334769]\n",
      " [0.60026591 0.04225851 0.76830692]\n",
      " [0.27786238 0.75248723 0.65271943]]\n",
      "10\n",
      "[[ 3 10  8]\n",
      " [13  8 10]\n",
      " [13  6  8]]\n",
      "10\n",
      "[ 1  8 15 22 29 36 43 50 57 64 71 78 85 92 99]\n",
      "50\n"
     ]
    }
   ],
   "source": [
    "rand=np.random.random(1)\n",
    "print(rand)\n",
    "rand=np.random.random(3)\n",
    "print(rand)\n",
    "rand=np.random.random((3,3))\n",
    "print(rand)\n",
    "rand=np.random.randint(1,15)\n",
    "print(rand)\n",
    "rand=np.random.randint(1,15,(3,3))\n",
    "print(rand)\n",
    "print(rand[1][2])\n",
    "\n",
    "array=np.arange(1,100,7)\n",
    "print(array)\n",
    "a=np.random.choice(array)\n",
    "print(a)"
   ]
  },
  {
   "cell_type": "code",
   "execution_count": null,
   "id": "6fe5ba96-c7b7-4c3d-883d-c815a50d7738",
   "metadata": {},
   "outputs": [],
   "source": []
  }
 ],
 "metadata": {
  "kernelspec": {
   "display_name": "Python 3 (ipykernel)",
   "language": "python",
   "name": "python3"
  },
  "language_info": {
   "codemirror_mode": {
    "name": "ipython",
    "version": 3
   },
   "file_extension": ".py",
   "mimetype": "text/x-python",
   "name": "python",
   "nbconvert_exporter": "python",
   "pygments_lexer": "ipython3",
   "version": "3.12.3"
  }
 },
 "nbformat": 4,
 "nbformat_minor": 5
}
