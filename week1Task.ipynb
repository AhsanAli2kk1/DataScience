{
 "cells": [
  {
   "cell_type": "code",
   "execution_count": 2,
   "id": "003c6125-44ac-45cd-afcf-94d6e29ea8ea",
   "metadata": {},
   "outputs": [
    {
     "data": {
      "text/plain": [
       "array([0, 1, 2, 3, 4, 5, 6, 7, 8, 9])"
      ]
     },
     "execution_count": 2,
     "metadata": {},
     "output_type": "execute_result"
    }
   ],
   "source": [
    "import numpy as np\n",
    "Array = np.array([0, 1, 2, 3, 4, 5, 6, 7, 8, 9])\n",
    "Array"
   ]
  },
  {
   "cell_type": "code",
   "execution_count": 40,
   "id": "cff2f1a3-7711-4865-bfb8-6873e1f6d3a5",
   "metadata": {},
   "outputs": [
    {
     "name": "stdout",
     "output_type": "stream",
     "text": [
      "[[11  7  3]\n",
      " [ 1  9 13]\n",
      " [ 7 17 15]]\n",
      "[[ 6 18 12]\n",
      " [18  8 13]\n",
      " [ 6  3  5]]\n"
     ]
    }
   ],
   "source": [
    "random_numbers = np.random.randint(1, 21, size=9)\n",
    "Array2D=random_numbers.reshape(3,3)\n",
    "print(Array2D)\n",
    "#second Method\n",
    "Array2=np.random.randint(1,21,(3,3))\n",
    "print(Array2)"
   ]
  },
  {
   "cell_type": "code",
   "execution_count": 4,
   "id": "dbaddd56-8dfd-48ab-bf1e-c5cf47c5a44e",
   "metadata": {},
   "outputs": [
    {
     "data": {
      "text/plain": [
       "array([[[1, 1, 1, 1],\n",
       "        [1, 1, 1, 1],\n",
       "        [1, 1, 1, 1]],\n",
       "\n",
       "       [[1, 1, 1, 1],\n",
       "        [1, 1, 1, 1],\n",
       "        [1, 1, 1, 1]]])"
      ]
     },
     "execution_count": 4,
     "metadata": {},
     "output_type": "execute_result"
    }
   ],
   "source": [
    "Array3D=np.ones((2,3,4),dtype='int')\n",
    "Array3D"
   ]
  },
  {
   "cell_type": "code",
   "execution_count": 6,
   "id": "1fd06396-5d2a-4cb5-8dd1-3ad2d1377fe7",
   "metadata": {},
   "outputs": [
    {
     "data": {
      "text/plain": [
       "array([ 2,  4,  6,  8, 10])"
      ]
     },
     "execution_count": 6,
     "metadata": {},
     "output_type": "execute_result"
    }
   ],
   "source": [
    "Array1=np.array([1,2,3,4,5])\n",
    "Array2=np.array([1,2,3,4,5])\n",
    "Array1+Array2"
   ]
  },
  {
   "cell_type": "code",
   "execution_count": 14,
   "id": "8abdf93a-005d-4a4c-a186-c701cd9af119",
   "metadata": {},
   "outputs": [
    {
     "data": {
      "text/plain": [
       "array([[ 21,  44,  69],\n",
       "       [ 96, 125, 156],\n",
       "       [189, 224, 261]])"
      ]
     },
     "execution_count": 14,
     "metadata": {},
     "output_type": "execute_result"
    }
   ],
   "source": [
    "Array1=np.arange(1,10).reshape(3,3)\n",
    "Array2=np.arange(21,30).reshape(3,3)\n",
    "Array1*Array2"
   ]
  },
  {
   "cell_type": "code",
   "execution_count": 16,
   "id": "625b499e-32c1-4a57-b94d-da958a26a76c",
   "metadata": {},
   "outputs": [
    {
     "data": {
      "text/plain": [
       "array([[150, 156, 162],\n",
       "       [366, 381, 396],\n",
       "       [582, 606, 630]])"
      ]
     },
     "execution_count": 16,
     "metadata": {},
     "output_type": "execute_result"
    }
   ],
   "source": [
    "Array1=np.arange(1,10).reshape(3,3)\n",
    "Array2=np.arange(21,30).reshape(3,3)\n",
    "np.dot(Array1,Array2)"
   ]
  },
  {
   "cell_type": "code",
   "execution_count": 28,
   "id": "c8632d01-1f4d-4ec8-ab53-da85940d99ed",
   "metadata": {},
   "outputs": [
    {
     "name": "stdout",
     "output_type": "stream",
     "text": [
      "10.5\n",
      "10.5\n",
      "5.766281297335398\n"
     ]
    }
   ],
   "source": [
    "Array=np.arange(1,21)\n",
    "print(np.mean(Array))\n",
    "print(np.median(Array))\n",
    "print(np.std(Array))"
   ]
  },
  {
   "cell_type": "code",
   "execution_count": 35,
   "id": "7b0ccd04-afc2-41dd-9453-36153224e49a",
   "metadata": {},
   "outputs": [
    {
     "name": "stdout",
     "output_type": "stream",
     "text": [
      "9\n",
      "1\n"
     ]
    }
   ],
   "source": [
    "Array=np.arange(1,10).reshape(3,3)\n",
    "\n",
    "print(np.max(Array))\n",
    "print(np.min(Array))"
   ]
  },
  {
   "cell_type": "code",
   "execution_count": 37,
   "id": "6bef4bbd-3d43-434f-9fb4-0df736d7b123",
   "metadata": {},
   "outputs": [
    {
     "name": "stdout",
     "output_type": "stream",
     "text": [
      "[[36 47 36 19 21]\n",
      " [47 38 35 48 37]\n",
      " [16 40 11 46 23]\n",
      " [22 40 28 32 19]\n",
      " [49 35 16 12 31]]\n"
     ]
    }
   ],
   "source": [
    "Array=np.random.randint(10,50,(5,5))\n",
    "print(Array)"
   ]
  },
  {
   "cell_type": "code",
   "execution_count": 39,
   "id": "5562911c-6ca8-453e-9baa-27bf287beb8b",
   "metadata": {},
   "outputs": [
    {
     "name": "stdout",
     "output_type": "stream",
     "text": [
      "[ 0  1  3  6 10 15 21 28 36 45]\n"
     ]
    }
   ],
   "source": [
    "Array = np.array([0, 1, 2, 3, 4, 5, 6, 7, 8, 9])\n",
    "print(np.cumsum(Array))"
   ]
  },
  {
   "cell_type": "code",
   "execution_count": 41,
   "id": "d80939cb-7f5d-4ccb-bdb9-43ac1967b4f8",
   "metadata": {},
   "outputs": [
    {
     "data": {
      "text/plain": [
       "array([[ 1.        , -0.24344936,  0.61429485, -0.08131959,  0.38969874],\n",
       "       [-0.24344936,  1.        , -0.75820027,  0.40762215,  0.27021832],\n",
       "       [ 0.61429485, -0.75820027,  1.        , -0.1315181 ,  0.192355  ],\n",
       "       [-0.08131959,  0.40762215, -0.1315181 ,  1.        , -0.36530851],\n",
       "       [ 0.38969874,  0.27021832,  0.192355  , -0.36530851,  1.        ]])"
      ]
     },
     "execution_count": 41,
     "metadata": {},
     "output_type": "execute_result"
    }
   ],
   "source": [
    "Array=np.random.randint(10,50,(5,5))\n",
    "np.corrcoef(Array)"
   ]
  },
  {
   "cell_type": "code",
   "execution_count": 44,
   "id": "cb17be9f-4432-4b80-b390-8de6218ffc28",
   "metadata": {},
   "outputs": [
    {
     "name": "stdout",
     "output_type": "stream",
     "text": [
      "{1: 179, 4: 155, 3: 177, 5: 165, 2: 166, 6: 158}\n"
     ]
    }
   ],
   "source": [
    "outcomes = np.random.randint(1, 7, size=1000)\n",
    "frequency = {}\n",
    "for num in outcomes:\n",
    "    if num in frequency:\n",
    "        frequency[num] += 1\n",
    "    else:\n",
    "        frequency[num] = 1\n",
    "print(frequency)"
   ]
  },
  {
   "cell_type": "code",
   "execution_count": null,
   "id": "d69e8ae6-0959-4367-b550-073878cdb556",
   "metadata": {},
   "outputs": [],
   "source": [
    "#Extras"
   ]
  },
  {
   "cell_type": "code",
   "execution_count": 7,
   "id": "fcc585fe-51ce-403a-9c07-fb8e7cc1be2d",
   "metadata": {},
   "outputs": [
    {
     "data": {
      "text/plain": [
       "99"
      ]
     },
     "execution_count": 7,
     "metadata": {},
     "output_type": "execute_result"
    }
   ],
   "source": [
    "\n",
    "#choosing Random number from the list\n",
    "Array=np.array([3,4,6,99,55,33,22,34,55])\n",
    "np.random.choice(Array)"
   ]
  },
  {
   "cell_type": "code",
   "execution_count": 18,
   "id": "ca1b3ed2-a43a-480c-88b7-40dadef5751b",
   "metadata": {},
   "outputs": [
    {
     "name": "stdout",
     "output_type": "stream",
     "text": [
      "[1 1 1 3 4 5 2 2 3 4 5 4 1 2 2 4 5 3]\n",
      "[1 1 1 3 3 5 1 2 2 4 5 3 2 2 4 3 5 5 1 2 2 4 5 3 1 2 2 4 5 3 1 2 2 4 5 3]\n"
     ]
    }
   ],
   "source": [
    "#changing dimention of array\n",
    "Array=np.array([[1,1,1,3,4,5],[2,2,3,4,5,4],[1,2,2,4,5,3]])\n",
    "Array2=np.array([[[1,1,1,3,3,5],\n",
    "                  [1,2,2,4,5,3],\n",
    "                  [2,2,4,3,5,5]],\n",
    "                 \n",
    "                  [[1,2,2,4,5,3],\n",
    "                   [1,2,2,4,5,3],\n",
    "                   [1,2,2,4,5,3]]])\n",
    "print(Array.flatten())\n",
    "print(Array2.flatten())"
   ]
  },
  {
   "cell_type": "code",
   "execution_count": 16,
   "id": "1aebd094-4d59-4657-b1db-9ca203030f0c",
   "metadata": {},
   "outputs": [
    {
     "data": {
      "text/plain": [
       "array([[[1],\n",
       "        [1],\n",
       "        [2],\n",
       "        [1],\n",
       "        [1]],\n",
       "\n",
       "       [[1],\n",
       "        [2],\n",
       "        [2],\n",
       "        [2],\n",
       "        [2]],\n",
       "\n",
       "       [[1],\n",
       "        [2],\n",
       "        [4],\n",
       "        [2],\n",
       "        [2]],\n",
       "\n",
       "       [[3],\n",
       "        [4],\n",
       "        [3],\n",
       "        [4],\n",
       "        [4]],\n",
       "\n",
       "       [[3],\n",
       "        [5],\n",
       "        [5],\n",
       "        [5],\n",
       "        [5]],\n",
       "\n",
       "       [[5],\n",
       "        [3],\n",
       "        [5],\n",
       "        [3],\n",
       "        [3]]])"
      ]
     },
     "execution_count": 16,
     "metadata": {},
     "output_type": "execute_result"
    }
   ],
   "source": [
    "Array2=np.array([[[1,1,1,3,3,5],[1,2,2,4,5,3],[2,2,4,3,5,5],[1,2,2,4,5,3],[1,2,2,4,5,3]]])\n",
    "np.transpose(Array2)"
   ]
  },
  {
   "cell_type": "code",
   "execution_count": 20,
   "id": "c3810466-19af-4949-954b-55f51770119d",
   "metadata": {},
   "outputs": [
    {
     "name": "stdout",
     "output_type": "stream",
     "text": [
      "[[[1 1 1 3 3 5]\n",
      "  [1 2 2 4 5 3]]\n",
      "\n",
      " [[1 2 2 4 5 3]\n",
      "  [1 2 2 4 5 3]]\n",
      "\n",
      " [[2 2 4 3 5 5]\n",
      "  [1 2 2 4 5 3]]]\n"
     ]
    }
   ],
   "source": [
    "#Swaping axis of an array\n",
    "Array2=np.array([[[1,1,1,3,3,5],\n",
    "                  [1,2,2,4,5,3],\n",
    "                  [2,2,4,3,5,5]],\n",
    "                 \n",
    "                  [[1,2,2,4,5,3],\n",
    "                   [1,2,2,4,5,3],\n",
    "                   [1,2,2,4,5,3]]])\n",
    "SwappedArray = np.swapaxes(Array2, 0, 1)\n",
    "print(SwappedArray)"
   ]
  },
  {
   "cell_type": "code",
   "execution_count": 22,
   "id": "823400ff-627b-422d-b3fa-5917e9f5b204",
   "metadata": {},
   "outputs": [
    {
     "name": "stdout",
     "output_type": "stream",
     "text": [
      "[['false' 'false' 'false']\n",
      " ['false' 'false' 'false']]\n"
     ]
    }
   ],
   "source": [
    "#create an array fill with specific value\n",
    "Array = np.full((2, 3), 'false')\n",
    "print(Array)"
   ]
  },
  {
   "cell_type": "markdown",
   "id": "1888ec66-4132-46b1-8857-84c444d23e9f",
   "metadata": {},
   "source": [
    "Given a 2D array of shape (6, 6), extract a 2x2 sub-array starting from the element at position (1, 1)."
   ]
  },
  {
   "cell_type": "code",
   "execution_count": 29,
   "id": "6538746e-c1a4-4204-b446-9593f59f064a",
   "metadata": {},
   "outputs": [
    {
     "data": {
      "text/plain": [
       "array([[ 8,  9],\n",
       "       [14, 15]])"
      ]
     },
     "execution_count": 29,
     "metadata": {},
     "output_type": "execute_result"
    }
   ],
   "source": [
    "Array=np.arange(1,37).reshape(6,6)\n",
    "Array[1:3,1:3]"
   ]
  },
  {
   "cell_type": "markdown",
   "id": "a560766c-1dd7-4205-a348-99b3ab0ac192",
   "metadata": {},
   "source": [
    "From a 3D array of shape (3, 2, 1), extract all elements in the first two rows and all columns of the second slice along the third axis.\n"
   ]
  },
  {
   "cell_type": "code",
   "execution_count": 35,
   "id": "f5c18100-f799-449a-8c31-f578f858de75",
   "metadata": {},
   "outputs": [
    {
     "name": "stdout",
     "output_type": "stream",
     "text": [
      "[[[1]\n",
      "  [2]]\n",
      "\n",
      " [[3]\n",
      "  [4]]\n",
      "\n",
      " [[5]\n",
      "  [6]]]\n",
      "[3 4]\n"
     ]
    }
   ],
   "source": [
    "Array=np.arange(1,7).reshape(3,2,1)\n",
    "print(Array)\n",
    "print(Array[1,:,0])"
   ]
  },
  {
   "cell_type": "code",
   "execution_count": 37,
   "id": "c1c3f4d9-85c7-4d71-aba2-7844ca3887f3",
   "metadata": {},
   "outputs": [
    {
     "data": {
      "text/plain": [
       "array([   1,   65,  323, 6453])"
      ]
     },
     "execution_count": 37,
     "metadata": {},
     "output_type": "execute_result"
    }
   ],
   "source": [
    "Array = np.array([0, 1, 5, 65, 323, 53, 6453, 2327, 8,34239])\n",
    "Index=[1,3,4,6]\n",
    "Array[Index]"
   ]
  },
  {
   "cell_type": "code",
   "execution_count": 57,
   "id": "dc285825-5ede-4086-b40b-7a76ea5d87d8",
   "metadata": {},
   "outputs": [
    {
     "data": {
      "text/plain": [
       "array([[5, 4],\n",
       "       [8, 3],\n",
       "       [8, 3]])"
      ]
     },
     "execution_count": 57,
     "metadata": {},
     "output_type": "execute_result"
    }
   ],
   "source": [
    "Array = np.array([[1, 5, 65,4],[ 323, 53, 6453,5],[ 2327, 8,34239,3]])\n",
    "rows=[0,2,2]\n",
    "Coloumns=[1,3]\n",
    "Array[rows,:][:,Coloumns]"
   ]
  },
  {
   "cell_type": "code",
   "execution_count": 58,
   "id": "09885e50-deb7-4c2b-9806-6337c6118d89",
   "metadata": {},
   "outputs": [
    {
     "data": {
      "text/plain": [
       "array([18,  9, 12, 15, 13, 17,  9, 18,  9])"
      ]
     },
     "execution_count": 58,
     "metadata": {},
     "output_type": "execute_result"
    }
   ],
   "source": [
    "Array=np.random.randint(1,20,12)\n",
    "Array[Array>8]"
   ]
  },
  {
   "cell_type": "code",
   "execution_count": null,
   "id": "c32fc29a-2902-4290-8d4e-60117a9e8311",
   "metadata": {},
   "outputs": [],
   "source": []
  }
 ],
 "metadata": {
  "kernelspec": {
   "display_name": "Python 3 (ipykernel)",
   "language": "python",
   "name": "python3"
  },
  "language_info": {
   "codemirror_mode": {
    "name": "ipython",
    "version": 3
   },
   "file_extension": ".py",
   "mimetype": "text/x-python",
   "name": "python",
   "nbconvert_exporter": "python",
   "pygments_lexer": "ipython3",
   "version": "3.12.3"
  }
 },
 "nbformat": 4,
 "nbformat_minor": 5
}
